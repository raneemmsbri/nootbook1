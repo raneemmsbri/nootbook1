{
 "cells": [
  {
   "cell_type": "markdown",
   "id": "5552f44f",
   "metadata": {},
   "source": [
    "# Data Science Tools and Ecosystem"
   ]
  },
  {
   "cell_type": "markdown",
   "id": "f87c9ee8",
   "metadata": {},
   "source": [
    "In this notebook, Data Science Tools and Ecosystem are summarized."
   ]
  },
  {
   "cell_type": "markdown",
   "id": "6d7834fe",
   "metadata": {},
   "source": [
    "Some of the popular languages that Data Scientists use are:\n",
    "\n",
    "    1.python\n",
    "    2.R\n",
    "    3.SQL\n",
    "    4.C++\n",
    "    5.Java"
   ]
  },
  {
   "cell_type": "markdown",
   "id": "9ac7e903",
   "metadata": {},
   "source": [
    "Some of the commonly used libraries used by Data Scientists include:\n",
    "    \n",
    "    1.pandas\n",
    "    2.numpy\n",
    "    3.matplotlib \n",
    "    4.seaborn"
   ]
  },
  {
   "cell_type": "markdown",
   "id": "ad6c41f4",
   "metadata": {},
   "source": [
    "|data science tool|\n",
    "|---|\n",
    "|SAS|\n",
    "|apache hadoob|\n",
    "|tensorflow|\n"
   ]
  },
  {
   "cell_type": "markdown",
   "id": "1954b23e",
   "metadata": {},
   "source": [
    "## Below are a few examples of evaluating arithmetic expressions in Python.\n"
   ]
  },
  {
   "cell_type": "code",
   "execution_count": 3,
   "id": "7ff4bcdd",
   "metadata": {},
   "outputs": [
    {
     "data": {
      "text/plain": [
       "17"
      ]
     },
     "execution_count": 3,
     "metadata": {},
     "output_type": "execute_result"
    }
   ],
   "source": [
    "#This a simple arithmetic expression to mutiply then add integers.\n",
    "(3*4)+5"
   ]
  },
  {
   "cell_type": "code",
   "execution_count": 4,
   "id": "7a614f5e",
   "metadata": {},
   "outputs": [
    {
     "data": {
      "text/plain": [
       "3.3333333333333335"
      ]
     },
     "execution_count": 4,
     "metadata": {},
     "output_type": "execute_result"
    }
   ],
   "source": [
    "#This will convert 200 minutes to hours by diving by 60.\n",
    "200/60"
   ]
  },
  {
   "cell_type": "markdown",
   "id": "f6b1eb0d",
   "metadata": {},
   "source": [
    "Objectives:\n",
    "\n",
    "    *List popular languages for Data Science\n",
    "    *List popular libary for Data Science\n",
    "    *list well known of data science tool\n",
    "    *how to provid comment in the cell"
   ]
  },
  {
   "cell_type": "markdown",
   "id": "c397c89f",
   "metadata": {},
   "source": [
    "##Author\n",
    "\n",
    "raneem"
   ]
  },
  {
   "cell_type": "code",
   "execution_count": null,
   "id": "a0897caf",
   "metadata": {},
   "outputs": [],
   "source": []
  }
 ],
 "metadata": {
  "kernelspec": {
   "display_name": "Python 3 (ipykernel)",
   "language": "python",
   "name": "python3"
  },
  "language_info": {
   "codemirror_mode": {
    "name": "ipython",
    "version": 3
   },
   "file_extension": ".py",
   "mimetype": "text/x-python",
   "name": "python",
   "nbconvert_exporter": "python",
   "pygments_lexer": "ipython3",
   "version": "3.9.13"
  }
 },
 "nbformat": 4,
 "nbformat_minor": 5
}
